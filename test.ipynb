{
 "metadata": {
  "language_info": {
   "codemirror_mode": {
    "name": "ipython",
    "version": 3
   },
   "file_extension": ".py",
   "mimetype": "text/x-python",
   "name": "python",
   "nbconvert_exporter": "python",
   "pygments_lexer": "ipython3",
   "version": "3.8.5"
  },
  "orig_nbformat": 2,
  "kernelspec": {
   "name": "python385jvsc74a57bd02fbafacebd351d0d26841268f4ca1ce3e1d6a341354a61bfe96625154206973e",
   "display_name": "Python 3.8.5 64-bit ('base': conda)"
  }
 },
 "nbformat": 4,
 "nbformat_minor": 2,
 "cells": [
  {
   "source": [
    "THis is jsut some test code From Scratch"
   ],
   "cell_type": "markdown",
   "metadata": {}
  },
  {
   "cell_type": "code",
   "execution_count": 1,
   "metadata": {},
   "outputs": [],
   "source": [
    "arr = ['one','two','three']"
   ]
  },
  {
   "cell_type": "code",
   "execution_count": 2,
   "metadata": {},
   "outputs": [
    {
     "output_type": "execute_result",
     "data": {
      "text/plain": [
       "['one', 'two', 'three']"
      ]
     },
     "metadata": {},
     "execution_count": 2
    }
   ],
   "source": [
    "arr"
   ]
  },
  {
   "cell_type": "code",
   "execution_count": 2,
   "metadata": {},
   "outputs": [],
   "source": [
    "Families = {\n",
    "            'Peter':\n",
    "                   {'Paul':{'Dog','Toucan'} ,\n",
    "                    'Patty': {'Turtle'}},\n",
    "            'Jim':\n",
    "                   {'Tommy':{'Hamster'},\n",
    "                    'Timmy':{'Hamster'},\n",
    "                    'Tammy':{'Hamster'}},\n",
    "            'Carlos':\n",
    "                   {'Diego':{'Cat','Ferret','Fox'}}\n",
    "            }"
   ]
  },
  {
   "source": [
    "Practice with Trees\n"
   ],
   "cell_type": "markdown",
   "metadata": {}
  },
  {
   "cell_type": "code",
   "execution_count": 4,
   "metadata": {},
   "outputs": [
    {
     "output_type": "stream",
     "name": "stdout",
     "text": [
      "Peter has 2 kid(s):\n Paul, and Patty\nPaul has 2 pet(s):\n Toucan, and Dog\nPatty has 1 pet(s):\n Turtle\nJim has 3 kid(s):\n Tommy, and Timmy, and Tammy\nTommy has 1 pet(s):\n Hamster\nTimmy has 1 pet(s):\n Hamster\nTammy has 1 pet(s):\n Hamster\nCarlos has 1 kid(s):\n Diego\nDiego has 3 pet(s):\n Ferret, and Fox, and Cat\n"
     ]
    }
   ],
   "source": [
    "for Parent, Children in Families.items():\n",
    "    print(f\"{Parent} has {len(Children)} kid(s):\")\n",
    "    print(f\" {', and '.join([str(Child) for Child in [*Children]])}\")\n",
    "    for Child, pets in Children.items():\n",
    "        print(f\"{Child} has {len(pets)} pet(s):\")\n",
    "        print(f\" {', and '.join([str(pet) for pet in [*pets]])}\")"
   ]
  },
  {
   "cell_type": "code",
   "execution_count": 5,
   "metadata": {},
   "outputs": [],
   "source": [
    "for Parent, Children in Families.items():\n",
    "    for Child, pets in Children.items():\n",
    "        for pet in pets:\n",
    "            if pet == \"Hamster\":\n",
    "                Families[Parent][Child]={}"
   ]
  },
  {
   "cell_type": "code",
   "execution_count": 6,
   "metadata": {},
   "outputs": [
    {
     "output_type": "stream",
     "name": "stdout",
     "text": [
      "Peter has 2 kid(s):\n Paul, and Patty\nPaul has 2 pet(s):\n Toucan, and Dog\nPatty has 1 pet(s):\n Turtle\nJim has 3 kid(s):\n Tommy, and Timmy, and Tammy\nTommy has 0 pet(s):\n \nTimmy has 0 pet(s):\n \nTammy has 0 pet(s):\n \nCarlos has 1 kid(s):\n Diego\nDiego has 3 pet(s):\n Ferret, and Fox, and Cat\n"
     ]
    }
   ],
   "source": [
    "for Parent, Children in Families.items():\n",
    "    print(f\"{Parent} has {len(Children)} kid(s):\")\n",
    "    print(f\" {', and '.join([str(Child) for Child in [*Children]])}\")\n",
    "    for Child, pets in Children.items():\n",
    "        print(f\"{Child} has {len(pets)} pet(s):\")\n",
    "        print(f\" {', and '.join([str(pet) for pet in [*pets]])}\")"
   ]
  },
  {
   "cell_type": "code",
   "execution_count": 7,
   "metadata": {},
   "outputs": [],
   "source": [
    "Families['Carlos']['Diego']={'Cat','Ferret'}"
   ]
  },
  {
   "cell_type": "code",
   "execution_count": 8,
   "metadata": {},
   "outputs": [
    {
     "output_type": "stream",
     "name": "stdout",
     "text": [
      "Peter has 2 kid(s):\n Paul, and Patty\nPaul has 2 pet(s):\n Toucan, and Dog\nPatty has 1 pet(s):\n Turtle\nJim has 3 kid(s):\n Tommy, and Timmy, and Tammy\nTommy has 0 pet(s):\n \nTimmy has 0 pet(s):\n \nTammy has 0 pet(s):\n \nCarlos has 1 kid(s):\n Diego\nDiego has 2 pet(s):\n Ferret, and Cat\n"
     ]
    }
   ],
   "source": [
    "for Parent, Children in Families.items():\n",
    "    print(f\"{Parent} has {len(Children)} kid(s):\")\n",
    "    print(f\" {', and '.join([str(Child) for Child in [*Children]])}\")\n",
    "    for Child, pets in Children.items():\n",
    "        print(f\"{Child} has {len(pets)} pet(s):\")\n",
    "        print(f\" {', and '.join([str(pet) for pet in [*pets]])}\")"
   ]
  },
  {
   "cell_type": "code",
   "execution_count": 11,
   "metadata": {},
   "outputs": [],
   "source": [
    "Families[Parent][Child] = {'porcupine'}"
   ]
  },
  {
   "cell_type": "code",
   "execution_count": 12,
   "metadata": {},
   "outputs": [
    {
     "output_type": "stream",
     "name": "stdout",
     "text": [
      "Peter has 2 kid(s):\n Paul, and Patty\nPaul has 2 pet(s):\n Toucan, and Dog\nPatty has 1 pet(s):\n Turtle\nJim has 3 kid(s):\n Tommy, and Timmy, and Tammy\nTommy has 0 pet(s):\n \nTimmy has 0 pet(s):\n \nTammy has 0 pet(s):\n \nCarlos has 1 kid(s):\n Diego\nDiego has 1 pet(s):\n porcupine\n"
     ]
    }
   ],
   "source": [
    "for Parent, Children in Families.items():\n",
    "    print(f\"{Parent} has {len(Children)} kid(s):\")\n",
    "    print(f\" {', and '.join([str(Child) for Child in [*Children]])}\")\n",
    "    for Child, pets in Children.items():\n",
    "        print(f\"{Child} has {len(pets)} pet(s):\")\n",
    "        print(f\" {', and '.join([str(pet) for pet in [*pets]])}\")"
   ]
  },
  {
   "cell_type": "code",
   "execution_count": 32,
   "metadata": {},
   "outputs": [
    {
     "output_type": "stream",
     "name": "stdout",
     "text": [
      "Head Honcho\n"
     ]
    }
   ],
   "source": [
    "class Tree():\n",
    "    def __init__(self,root):\n",
    "        self.root = root\n",
    "        self.children = []\n",
    "        self.Nodes = []\n",
    "    def addNode(self,obj):\n",
    "        self.children.append(obj)\n",
    "\n",
    "    def getAllNodes(self):\n",
    "        self.Nodes.append(self.root)\n",
    "        for child in self.children:\n",
    "            self.Nodes.append(child.data)\n",
    "        for child in self.children:\n",
    "            if child.getChildNodes(self.Nodes) != None:\n",
    "                child.getChildNodes(self.Nodes)\n",
    "        print(*self.Nodes, sep = '\\n')\n",
    "        print('Tree Size:' + str(len(self.Nodes)))\n",
    "\n",
    "\n",
    "class Node():\n",
    "    def __init__(self,data):\n",
    "        self.data = data\n",
    "        self.children = []\n",
    "    def addNode(self,obj):\n",
    "        self.children.append(obj)\n",
    "    def getChildNodes(self,Tree):\n",
    "        for child in self.children:\n",
    "            if child.children:\n",
    "                child.getChildNodes(Tree)\n",
    "                Tree.append(child.data)\n",
    "            else:\n",
    "                Tree.append(child.data)\n",
    "\n",
    "FunCorp = Tree(\"Head Honcho\")\n",
    "print(FunCorp.root)"
   ]
  },
  {
   "cell_type": "code",
   "execution_count": 33,
   "metadata": {},
   "outputs": [],
   "source": [
    "FunCorp.addNode(Node(\"VP of Stuff\"))\n",
    "FunCorp.addNode(Node('VP of Shenanigans'))\n",
    "FunCorp.addNode(Node('VP of Hootenanny'))"
   ]
  },
  {
   "cell_type": "code",
   "execution_count": 34,
   "metadata": {},
   "outputs": [
    {
     "output_type": "stream",
     "name": "stdout",
     "text": [
      "C Suite: VP of Stuff, VP of Shenanigans, VP of Hootenanny\n"
     ]
    }
   ],
   "source": [
    "print(f'C Suite: {\", \".join(str(child.data) for child in FunCorp.children)}')"
   ]
  },
  {
   "cell_type": "code",
   "execution_count": 35,
   "metadata": {},
   "outputs": [],
   "source": [
    "FunCorp.children[0].addNode(Node(\"General manager of Fun\"))"
   ]
  },
  {
   "cell_type": "code",
   "execution_count": 36,
   "metadata": {},
   "outputs": [
    {
     "output_type": "stream",
     "name": "stdout",
     "text": [
      "the Position under VP of Stuff is : General manager of Fun\n"
     ]
    }
   ],
   "source": [
    "print(f'the Position under {FunCorp.children[0].data} is : {FunCorp.children[0].children[0].data}')"
   ]
  },
  {
   "source": [
    "Added the getAllNodes to the Tree class and get ChildNodes from the Node class"
   ],
   "cell_type": "markdown",
   "metadata": {}
  },
  {
   "cell_type": "code",
   "execution_count": 37,
   "metadata": {},
   "outputs": [],
   "source": [
    "FunCorp.children[1].addNode(Node('General manager Shindings'))\n",
    "FunCorp.children[0].children[0].addNode(Node('Sub manager of Fun'))\n",
    "FunCorp.children[0].children[0].children[0].addNode(Node('Employee of the month'))"
   ]
  },
  {
   "cell_type": "code",
   "execution_count": 38,
   "metadata": {},
   "outputs": [
    {
     "output_type": "stream",
     "name": "stdout",
     "text": [
      "Head Honcho\nVP of Stuff\nVP of Shenanigans\nVP of Hootenanny\nEmployee of the month\nSub manager of Fun\nGeneral manager of Fun\nGeneral manager Shindings\nTree Size:8\n"
     ]
    }
   ],
   "source": [
    "FunCorp.getAllNodes()"
   ]
  },
  {
   "cell_type": "code",
   "execution_count": 40,
   "metadata": {},
   "outputs": [],
   "source": [
    "from treelib import Node, Tree"
   ]
  },
  {
   "cell_type": "code",
   "execution_count": 42,
   "metadata": {},
   "outputs": [
    {
     "output_type": "stream",
     "name": "stdout",
     "text": [
      "CEO\n├── VP_1\n│   └── GM_1\n└── VP_2\n    └── GM_2\n\n"
     ]
    }
   ],
   "source": [
    "tree = Tree()\n",
    "tree.create_node(\"CEO\",\"CEO\")\n",
    "tree.create_node(\"VP_1\",\"VP_1\",parent=\"CEO\")\n",
    "tree.create_node(\"VP_2\",\"VP_2\",parent=\"CEO\")\n",
    "tree.create_node(\"GM_1\",\"GM_1\",parent=\"VP_1\")\n",
    "tree.create_node(\"GM_2\",\"GM_2\",parent=\"VP_2\")\n",
    "\n",
    "tree.show()"
   ]
  },
  {
   "cell_type": "code",
   "execution_count": 43,
   "metadata": {},
   "outputs": [],
   "source": [
    "from anytree import Node, RenderTree"
   ]
  },
  {
   "cell_type": "code",
   "execution_count": 44,
   "metadata": {},
   "outputs": [
    {
     "output_type": "stream",
     "name": "stdout",
     "text": [
      "CEO\n├── VP_1\n│   └── GM_1\n└── VP_2\n    └── GM_2\n"
     ]
    }
   ],
   "source": [
    "ceo = Node(\"CEO\") #root\n",
    "vp_1 = Node(\"VP_1\", parent=ceo)\n",
    "vp_2 = Node(\"VP_2\", parent=ceo)\n",
    "gm_1 = Node(\"GM_1\", parent=vp_1)\n",
    "gm_2 = Node(\"GM_2\", parent=vp_2)\n",
    "\n",
    "for pre, fill, node in RenderTree(ceo):\n",
    "    print(\"%s%s\" % (pre, node.name))"
   ]
  },
  {
   "cell_type": "code",
   "execution_count": 45,
   "metadata": {},
   "outputs": [],
   "source": [
    "from anytree import Node, RenderTree\n",
    "from anytree.exporter import DotExporter\n",
    "\n",
    "ceo = Node(\"CEO\") #root\n",
    "vp_1 = Node(\"VP_1\", parent=ceo)\n",
    "vp_2 = Node(\"VP_2\", parent=ceo)\n",
    "gm_1 = Node(\"GM_1\", parent=vp_1)\n",
    "gm_2 = Node(\"GM_2\", parent=vp_2)\n",
    "m_1 = Node(\"M_1\", parent=gm_2)\n",
    "\n",
    "DotExporter(ceo).to_picture(\"ceo.png\")"
   ]
  },
  {
   "cell_type": "code",
   "execution_count": null,
   "metadata": {},
   "outputs": [],
   "source": []
  }
 ]
}